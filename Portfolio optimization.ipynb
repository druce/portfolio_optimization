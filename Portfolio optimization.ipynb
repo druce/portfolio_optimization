{
 "cells": [
  {
   "cell_type": "markdown",
   "metadata": {},
   "source": [
    "See README.md for installs, environment setup"
   ]
  },
  {
   "cell_type": "code",
   "execution_count": 1,
   "metadata": {},
   "outputs": [
    {
     "name": "stdout",
     "output_type": "stream",
     "text": [
      "python               3.8.5\n",
      "numpy                1.19.2\n",
      "pandas               1.1.3\n",
      "pandas-datareader    0.9.0\n",
      "xlrd                 1.2.0\n",
      "seaborn              0.11.0\n",
      "matplotlib           3.3.2\n",
      "cvxpy                1.1.7\n"
     ]
    }
   ],
   "source": [
    "import sys\n",
    "from multiprocessing import Pool\n",
    "from datetime import datetime\n",
    "\n",
    "import numpy as np\n",
    "import pandas as pd\n",
    "import pandas_datareader as pdr\n",
    "import xlrd\n",
    "\n",
    "import seaborn as sns\n",
    "import matplotlib\n",
    "import matplotlib.pyplot as plt\n",
    "\n",
    "# https://www.cvxpy.org/install/index.html\n",
    "import cvxpy as cp\n",
    "\n",
    "# set seed for reproducibility\n",
    "np.random.seed(2347)\n",
    "\n",
    "print(\"%-20s %s\" % ('python', \".\".join(map(str, sys.version_info[:3]))))\n",
    "print(\"%-20s %s\" % (\"numpy\", np.__version__))\n",
    "print(\"%-20s %s\" % (\"pandas\", pd.__version__))\n",
    "print(\"%-20s %s\" % (\"pandas-datareader\", pdr.__version__))\n",
    "print(\"%-20s %s\" % (\"xlrd\", xlrd.__version__))\n",
    "print(\"%-20s %s\" % (\"seaborn\", sns.__version__))\n",
    "print(\"%-20s %s\" % (\"matplotlib\", matplotlib.__version__))\n",
    "print(\"%-20s %s\" % (\"cvxpy\", cp.__version__))\n"
   ]
  },
  {
   "cell_type": "markdown",
   "metadata": {},
   "source": [
    "# Get data"
   ]
  },
  {
   "cell_type": "code",
   "execution_count": null,
   "metadata": {},
   "outputs": [],
   "source": [
    "# load spreadsheet from Damodaran website into pandas dataframe\n",
    "data_xls = 'http://www.stern.nyu.edu/~adamodar/pc/datasets/histretSP.xls'\n",
    "data_sheet = \"Returns by year\"\n",
    "# these will change as rows get added on Damodaran website\n",
    "skiprows = range(17)\n",
    "skipfooter = 10\n",
    "download_df = pd.read_excel('http://www.stern.nyu.edu/~adamodar/pc/datasets/histretSP.xls', \n",
    "                         sheet_name=data_sheet, \n",
    "                         skiprows=skiprows,\n",
    "                         skipfooter=skipfooter)\n",
    "download_df = download_df.set_index('Year')"
   ]
  },
  {
   "cell_type": "code",
   "execution_count": null,
   "metadata": {},
   "outputs": [],
   "source": [
    "download_df"
   ]
  },
  {
   "cell_type": "code",
   "execution_count": null,
   "metadata": {},
   "outputs": [],
   "source": [
    "# load gold data from FRED API & save copy locally to CSV file\n",
    "\n",
    "series = ['GOLDAMGBD228NLBM']\n",
    "\n",
    "gold_download = pdr.data.DataReader(series, \n",
    "                                    'fred', \n",
    "                                    start='1968-12-31')\n",
    "# convert daily to annual\n",
    "gold_download = gold_download.resample('A').last().reset_index()\n",
    "gold_download.set_index(pd.DatetimeIndex(gold_download['DATE']).year, inplace=True)\n",
    "gold_download['return'] = gold_download['GOLDAMGBD228NLBM'].pct_change()\n",
    "gold_download.to_csv('gold_fred.csv')\n"
   ]
  },
  {
   "cell_type": "code",
   "execution_count": null,
   "metadata": {},
   "outputs": [],
   "source": [
    "# splice older gold data from other sources (Ibbotson yearbook)\n",
    "longrun_data = pd.DataFrame({'year': list(range(1928, 2020)), 'gold': [0,0,0,0,0,0.563618771,0.082920792,0,0,0,0,0,-0.014285714,0.028985507,0,0.028169014,-0.006849315,0.027586207,0.026845638,0.124183007,-0.023255814,-0.035714286,-0.00617284,-0.00621118,-0.0325,-0.082687339,-0.007042254,-0.002836879,0.001422475,0.001420455,0,0,0.035460993,-0.02739726,-0.004225352,-0.002828854,0.002836879,0.004243281,-0.002816901,0.002824859,0.225352113,-0.057471264,-0.051219512,0.146529563,0.431390135,0.667919799,0.725864012,-0.242041683,-0.03962955,0.204305898,0.291744258,1.205670351,0.296078431,-0.327618087,0.1175,-0.149888143,-0.189473684,0.061688312,0.195412844,0.244563827,-0.156937307,-0.022308911,-0.036907731,-0.085577421,-0.057057907,0.176426426,-0.021697511,0.009784736,-0.046511628,-0.222086721,0.005748128,0.005368895,-0.060637382,0.014120668,0.23960217,0.217359592,0.04397843,0.17768595,0.231968811,0.319224684,0.043178411,0.250359299,0.292413793,0.089292067,0.082625735,-0.273303167,0.00124533,-0.114238,0.091174,0.118540,-0.011454,0.188312]})\n",
    "longrun_data.set_index('year', inplace=True)\n",
    "longrun_data.loc[1969:, 'gold'] = gold_download['return']\n",
    "longrun_data\n"
   ]
  },
  {
   "cell_type": "code",
   "execution_count": null,
   "metadata": {},
   "outputs": [],
   "source": [
    "series = ['GDPCA']\n",
    "\n",
    "gdp_download = pdr.data.DataReader(series, \n",
    "                                   'fred', \n",
    "                                   start='1926-12-31')\n",
    "gdp_download.reset_index(inplace=True)\n",
    "gdp_download.set_index(pd.DatetimeIndex(gdp_download['DATE']).year, inplace=True)\n",
    "gdp_download['GDP'] = gdp_download['GDPCA'].pct_change()\n",
    "# https://fortunly.com/statistics/us-gdp-by-year-guide/#gref\n",
    "gdp_download.loc[1928, 'GDP'] = 0.0110\n",
    "gdp_download.loc[1929, 'GDP'] = 0.0652\n",
    "gdp_download.to_csv('gdp_fred.csv')\n",
    "\n",
    "gdp_download"
   ]
  },
  {
   "cell_type": "code",
   "execution_count": null,
   "metadata": {},
   "outputs": [],
   "source": [
    "data_df = download_df.copy()\n",
    "data_df = data_df.rename(columns = {'Inflation Rate': 'CPI',\n",
    "           'S&P 500 (includes dividends)2': 'S&P',\n",
    "           '3-month T. Bill (Real)': 'T-Bills',\n",
    "           '!0-year T.Bonds': 'T-Notes',\n",
    "           'Baa Corp Bonds': 'Baa Corps',\n",
    "          })[['CPI', 'S&P', 'T-Bills', 'T-Notes', 'Baa Corps']]\n",
    "data_df[\"GDP\"] = gdp_download['GDP']\n",
    "data_df[\"Gold\"] = longrun_data['gold'] - data_df['CPI']\n",
    "# reorder\n",
    "data_df = data_df[['GDP', 'CPI', 'S&P', 'T-Bills', 'T-Notes', 'Baa Corps', 'Gold']]\n"
   ]
  },
  {
   "cell_type": "markdown",
   "metadata": {},
   "source": [
    "# Visualize"
   ]
  },
  {
   "cell_type": "code",
   "execution_count": null,
   "metadata": {},
   "outputs": [],
   "source": [
    "df = data_df\n",
    "df"
   ]
  },
  {
   "cell_type": "code",
   "execution_count": null,
   "metadata": {},
   "outputs": [],
   "source": [
    "df.plot.line();\n"
   ]
  },
  {
   "cell_type": "code",
   "execution_count": null,
   "metadata": {},
   "outputs": [],
   "source": [
    "# compute correlation matrix\n",
    "my_cmap = sns.diverging_palette(10, 220, sep=80, n=50)\n",
    "sns.heatmap(df.corr(), annot=True, fmt=\".02f\", cmap=my_cmap);\n"
   ]
  },
  {
   "cell_type": "code",
   "execution_count": null,
   "metadata": {},
   "outputs": [],
   "source": [
    "# drop CPI, GDP which are not assets\n",
    "df.drop(labels=['CPI', 'GDP'], axis=1, inplace=True)\n",
    "# drop T-Notes, allocations are small, favors corps \n",
    "# df.drop(labels=['T-Notes'], axis=1, inplace=True)\n",
    "labels = list(df.columns)\n",
    "labels\n"
   ]
  },
  {
   "cell_type": "markdown",
   "metadata": {},
   "source": [
    "# Long-only optimization"
   ]
  },
  {
   "cell_type": "code",
   "execution_count": null,
   "metadata": {},
   "outputs": [],
   "source": [
    "# compute covariance matrix\n",
    "Sigma = np.cov(df.transpose())\n",
    "# number of assets\n",
    "\n",
    "n = Sigma.shape[0]\n",
    "# average returns\n",
    "mu = df.mean().values\n",
    "# asset STDs\n",
    "asset_vols = np.sqrt(Sigma.diagonal())\n",
    "# variable to optimize over - portfolio weights\n",
    "w = cp.Variable(n)\n",
    "\n",
    "# objectives to optimize\n",
    "# portfolio return\n",
    "ret = mu.T @ w \n",
    "# volatility\n",
    "vol = cp.quad_form(w, Sigma)\n",
    "\n",
    "z = pd.DataFrame([mu, asset_vols], columns=labels)\n",
    "z['rows'] = ['real return', 'vol']\n",
    "z.set_index('rows')"
   ]
  },
  {
   "cell_type": "code",
   "execution_count": null,
   "metadata": {},
   "outputs": [],
   "source": [
    "# Solve max return portfolio (corner solution)\n",
    "prob = cp.Problem(cp.Maximize(ret), \n",
    "                  [cp.sum(w) == 1, \n",
    "                   w >= 0]\n",
    "                 )\n",
    "prob.solve()\n",
    "wts = [float('%0.4f' % v) for v in w.value]\n",
    "maxretvol = vol.value\n",
    "maxret = ret.value\n",
    "print(\"Max return portfolio weights\")\n",
    "pd.DataFrame([wts], columns=labels)\n"
   ]
  },
  {
   "cell_type": "code",
   "execution_count": null,
   "metadata": {},
   "outputs": [],
   "source": [
    "# solve min vol portfolio (other corner solution)\n",
    "prob = cp.Problem(cp.Minimize(vol),\n",
    "                  [cp.sum(w) == 1, \n",
    "                   w >= 0]\n",
    "                 )\n",
    "prob.solve()\n",
    "wts = [float('%0.4f' % v) for v in w.value]\n",
    "\n",
    "minvol = vol.value\n",
    "minvolret = ret.value\n",
    "print(\"Min vol portfolio weights\")\n",
    "pd.DataFrame([wts], columns=labels)\n"
   ]
  },
  {
   "cell_type": "code",
   "execution_count": null,
   "metadata": {},
   "outputs": [],
   "source": [
    "%%time\n",
    "# solve points in between\n",
    "# maximize return subject to volatility constraints between minimum volatility and max return volatility\n",
    "\n",
    "# specify a Parameter variable instead of creating new Problem at each iteration\n",
    "# this allows the solver to reuse previous work\n",
    "vol_limit = cp.Parameter(nonneg=True)\n",
    "\n",
    "prob = cp.Problem(cp.Maximize(ret),\n",
    "                  [cp.sum(w) == 1, \n",
    "                   w >= 0,\n",
    "                   vol <= vol_limit\n",
    "                  ]\n",
    "                 )\n",
    "\n",
    "# define function so we can solve many in parallel\n",
    "def solve_vl(vl_val):\n",
    "    vol_limit.value = vl_val\n",
    "    result = prob.solve()\n",
    "    return (ret.value, np.sqrt(vol.value), w.value)\n",
    "\n",
    "# number of points on the frontier\n",
    "NPOINTS = 200\n",
    "vl_vals = np.linspace(minvol, maxretvol, NPOINTS)\n",
    "\n",
    "# iterate in-process\n",
    "results_dict = {}\n",
    "for vl_val in vl_vals:\n",
    "    # print(datetime.strftime(datetime.now(), \"%H:%M:%S\"), vl_val)\n",
    "    results_dict[vl_val] = solve_vl(vl_val)\n",
    "    \n",
    "# parallel implementation\n",
    "# NPROCESSES = 8\n",
    "# pool = Pool(processes = NPROCESSES)\n",
    "# result_values = pool.map(solve_vl, vl_vals)\n",
    "# results_dict = dict(zip(vl_vals, result_values))\n"
   ]
  },
  {
   "cell_type": "code",
   "execution_count": null,
   "metadata": {},
   "outputs": [],
   "source": [
    "ret_df = pd.DataFrame(enumerate(results_dict.keys()))\n",
    "ret_df.columns=['i', 'vol']\n",
    "ret_df['return'] = [results_dict[v][0] for v in ret_df['vol']]\n",
    "ret_df['std'] = [results_dict[v][1] for v in ret_df['vol']]\n",
    "for i, colname in enumerate(labels):\n",
    "    ret_df[colname]=[results_dict[v][2][i] for v in ret_df['vol']]\n",
    "ret_df"
   ]
  },
  {
   "cell_type": "code",
   "execution_count": null,
   "metadata": {},
   "outputs": [],
   "source": [
    "# plot efficient frontier\n",
    "plt.figure(figsize=(8, 4.5))\n",
    "plt.scatter(asset_vols, mu)\n",
    "\n",
    "x = ret_df['std']\n",
    "y = ret_df['return']\n",
    "plt.xlabel(\"Standard Deviation of Real Returns\")\n",
    "plt.ylabel(\"Real Return\")\n",
    "plt.title(\"Risk vs. Real Return,  %d-%d\" % (df.index[0], df.index[-1]))\n",
    "\n",
    "# plot the data\n",
    "plt.plot(x,y)\n",
    "\n",
    "xoffset = 0.0033\n",
    "yoffset = 0.002\n",
    "for i, label in enumerate(labels):\n",
    "    plt.annotate(label, xy=(asset_vols[i]+xoffset, mu[i]+yoffset),  xycoords='data',\n",
    "                horizontalalignment='left', verticalalignment='top',\n",
    "               )\n"
   ]
  },
  {
   "cell_type": "code",
   "execution_count": null,
   "metadata": {},
   "outputs": [],
   "source": [
    "# stacked area chart of weights vs. returns\n",
    "# for given vol constraint and corresponding real return, show portfolio weights\n",
    "x = ret_df['return']\n",
    "y_list = [ret_df[l] for l in labels]\n",
    "pal = ['red', 'lightgreen', 'darkgreen', 'navy', 'gold']\n",
    "\n",
    "fig = plt.figure(figsize=(8, 4.5))\n",
    "ax1 = fig.add_subplot(111)\n",
    "\n",
    "ax1.stackplot(x, y_list, labels=labels, colors=pal)\n",
    "ax1.set_xlabel(\"Portfolio Real Return\")\n",
    "ax1.set_ylabel(\"Portfolio Weight\")\n",
    "ax1.legend(loc='lower right')\n",
    "\n",
    "ax2 = ax1.twiny()\n",
    "ax2.set_xlim((ret_df['std'].iloc[0], ret_df['std'].iloc[-1]))\n",
    "ax2.set_xlabel('Portfolio Vol')\n",
    "\n",
    "ax3 = ax1.twinx()\n",
    "\n",
    "plt.title(\"Optimal Portfolio Transition Map, %d-%d\" % (df.index[0], df.index[-1]), y=1.16);\n"
   ]
  },
  {
   "cell_type": "markdown",
   "metadata": {},
   "source": [
    "## 1972 - present (post gold standard)"
   ]
  },
  {
   "cell_type": "code",
   "execution_count": null,
   "metadata": {},
   "outputs": [],
   "source": [
    "df = data_df.loc[1972:]\n",
    "df.plot.line();\n"
   ]
  },
  {
   "cell_type": "code",
   "execution_count": null,
   "metadata": {},
   "outputs": [],
   "source": [
    "# compute covariance matrix\n",
    "Sigma = np.cov(df.transpose())\n",
    "# number of assets\n",
    "\n",
    "n = Sigma.shape[0]\n",
    "# average returns\n",
    "mu = df.mean().values\n",
    "# asset STDs\n",
    "asset_vols = np.sqrt(Sigma.diagonal())\n",
    "# variable to optimize over - portfolio weights\n",
    "w = cp.Variable(n)\n",
    "\n",
    "# objectives to optimize\n",
    "# portfolio return\n",
    "ret = mu.T @ w \n",
    "# volatility\n",
    "vol = cp.quad_form(w, Sigma)\n",
    "\n",
    "z = pd.DataFrame([mu, asset_vols], columns=labels)\n",
    "z['rows'] = ['real return', 'vol']\n",
    "z.set_index('rows')"
   ]
  },
  {
   "cell_type": "code",
   "execution_count": null,
   "metadata": {},
   "outputs": [],
   "source": [
    "# Solve max return portfolio (corner solution)\n",
    "prob = cp.Problem(cp.Maximize(ret), \n",
    "                  [cp.sum(w) == 1, \n",
    "                   w >= 0]\n",
    "                 )\n",
    "prob.solve()\n",
    "wts = [float('%0.4f' % v) for v in w.value]\n",
    "maxretvol = vol.value\n",
    "maxret = ret.value\n",
    "print(\"Max return portfolio weights\")\n",
    "pd.DataFrame([wts], columns=labels)\n"
   ]
  },
  {
   "cell_type": "code",
   "execution_count": null,
   "metadata": {},
   "outputs": [],
   "source": [
    "# solve min vol portfolio (other corner solution)\n",
    "prob = cp.Problem(cp.Minimize(vol),\n",
    "                  [cp.sum(w) == 1, \n",
    "                   w >= 0]\n",
    "                 )\n",
    "prob.solve()\n",
    "wts = [float('%0.4f' % v) for v in w.value]\n",
    "\n",
    "minvol = vol.value\n",
    "minvolret = ret.value\n",
    "print(\"Min vol portfolio weights\")\n",
    "pd.DataFrame([wts], columns=labels)\n"
   ]
  },
  {
   "cell_type": "code",
   "execution_count": null,
   "metadata": {},
   "outputs": [],
   "source": [
    "%%time\n",
    "# solve points in between\n",
    "# maximize return subject to volatility constraints between minimum volatility and max return volatility\n",
    "\n",
    "# specify a Parameter variable instead of creating new Problem at each iteration\n",
    "# this allows the solver to reuse previous work\n",
    "vol_limit = cp.Parameter(nonneg=True)\n",
    "\n",
    "prob = cp.Problem(cp.Maximize(ret),\n",
    "                  [cp.sum(w) == 1, \n",
    "                   w >= 0,\n",
    "                   vol <= vol_limit\n",
    "                  ]\n",
    "                 )\n",
    "\n",
    "# define function so we can solve many in parallel\n",
    "def solve_vl(vl_val):\n",
    "    vol_limit.value = vl_val\n",
    "    result = prob.solve()\n",
    "    return (ret.value, np.sqrt(vol.value), w.value)\n",
    "\n",
    "# number of points on the frontier\n",
    "NPOINTS = 200\n",
    "vl_vals = np.linspace(minvol, maxretvol, NPOINTS)\n",
    "\n",
    "# iterate in-process\n",
    "results_dict = {}\n",
    "for vl_val in vl_vals:\n",
    "    # print(datetime.strftime(datetime.now(), \"%H:%M:%S\"), vl_val)\n",
    "    results_dict[vl_val] = solve_vl(vl_val)\n",
    "    \n",
    "# parallel implementation\n",
    "# NPROCESSES = 8\n",
    "# pool = Pool(processes = NPROCESSES)\n",
    "# result_values = pool.map(solve_vl, vl_vals)\n",
    "# results_dict = dict(zip(vl_vals, result_values))\n"
   ]
  },
  {
   "cell_type": "code",
   "execution_count": null,
   "metadata": {},
   "outputs": [],
   "source": [
    "ret_df = pd.DataFrame(enumerate(results_dict.keys()))\n",
    "ret_df.columns=['i', 'vol']\n",
    "ret_df['return'] = [results_dict[v][0] for v in ret_df['vol']]\n",
    "ret_df['std'] = [results_dict[v][1] for v in ret_df['vol']]\n",
    "for i, colname in enumerate(labels):\n",
    "    ret_df[colname]=[results_dict[v][2][i] for v in ret_df['vol']]\n",
    "ret_df"
   ]
  },
  {
   "cell_type": "code",
   "execution_count": null,
   "metadata": {},
   "outputs": [],
   "source": [
    "# plot frontier\n",
    "plt.figure(figsize=(8, 4.5))\n",
    "plt.scatter(asset_vols, mu)\n",
    "\n",
    "x = ret_df['std']\n",
    "y = ret_df['return']\n",
    "plt.xlabel(\"Standard Deviation of Real Returns\")\n",
    "plt.ylabel(\"Real Return\")\n",
    "plt.title(\"Risk vs. Real Return,  %d-%d\" % (df.index[0], df.index[-1]))\n",
    "\n",
    "# plot the data\n",
    "plt.plot(x,y)\n",
    "\n",
    "\n",
    "xoffset = 0.0033\n",
    "yoffset = 0.002\n",
    "for i, label in enumerate(labels):\n",
    "    plt.annotate(label, xy=(asset_vols[i]+xoffset, mu[i]+yoffset),  xycoords='data',\n",
    "                horizontalalignment='left', verticalalignment='top',\n",
    "               )\n"
   ]
  },
  {
   "cell_type": "code",
   "execution_count": null,
   "metadata": {},
   "outputs": [],
   "source": [
    "# stacked area chart of weights vs. returns\n",
    "# for given vol constraint and corresponding real return, show portfolio weights\n",
    "x = ret_df['return']\n",
    "y_list = [ret_df[l] for l in labels]\n",
    "pal = ['red', 'lightgreen', 'darkgreen', 'navy', 'gold']\n",
    "\n",
    "fig = plt.figure(figsize=(8, 4.5))\n",
    "ax1 = fig.add_subplot(111)\n",
    "\n",
    "ax1.stackplot(x, y_list, labels=labels, colors=pal)\n",
    "ax1.set_xlabel(\"Portfolio Real Return\")\n",
    "ax1.set_ylabel(\"Portfolio Weight\")\n",
    "ax1.legend(loc='lower right')\n",
    "\n",
    "ax2 = ax1.twiny()\n",
    "ax2.set_xlim((ret_df['std'].iloc[0], ret_df['std'].iloc[-1]))\n",
    "ax2.set_xlabel('Portfolio Vol')\n",
    "\n",
    "ax3 = ax1.twinx()\n",
    "\n",
    "plt.title(\"Optimal Portfolio Transition Map, %d-%d (Post-gold standard)\" % (df.index[0], df.index[-1]), y=1.16);\n"
   ]
  },
  {
   "cell_type": "markdown",
   "metadata": {},
   "source": [
    "## 1983 - present (post inflation)\n"
   ]
  },
  {
   "cell_type": "code",
   "execution_count": null,
   "metadata": {},
   "outputs": [],
   "source": [
    "df = data_df.loc[1983:]\n",
    "df.plot.line();"
   ]
  },
  {
   "cell_type": "code",
   "execution_count": null,
   "metadata": {},
   "outputs": [],
   "source": [
    "# compute covariance matrix\n",
    "Sigma = np.cov(df.transpose())\n",
    "# number of assets\n",
    "\n",
    "n = Sigma.shape[0]\n",
    "# average returns\n",
    "mu = df.mean().values\n",
    "# asset STDs\n",
    "asset_vols = np.sqrt(Sigma.diagonal())\n",
    "# variable to optimize over - portfolio weights\n",
    "w = cp.Variable(n)\n",
    "\n",
    "# objectives to optimize\n",
    "# portfolio return\n",
    "ret = mu.T @ w \n",
    "# volatility\n",
    "vol = cp.quad_form(w, Sigma)\n",
    "\n",
    "z = pd.DataFrame([mu, asset_vols], columns=labels)\n",
    "z['rows'] = ['real return', 'vol']\n",
    "z.set_index('rows')"
   ]
  },
  {
   "cell_type": "code",
   "execution_count": null,
   "metadata": {},
   "outputs": [],
   "source": [
    "# Solve max return portfolio (corner solution)\n",
    "prob = cp.Problem(cp.Maximize(ret), \n",
    "                  [cp.sum(w) == 1, \n",
    "                   w >= 0]\n",
    "                 )\n",
    "prob.solve()\n",
    "wts = [float('%0.4f' % v) for v in w.value]\n",
    "maxretvol = vol.value\n",
    "maxret = ret.value\n",
    "print(\"Max return portfolio weights\")\n",
    "pd.DataFrame([wts], columns=labels)\n"
   ]
  },
  {
   "cell_type": "code",
   "execution_count": null,
   "metadata": {},
   "outputs": [],
   "source": [
    "# solve min vol portfolio (other corner solution)\n",
    "prob = cp.Problem(cp.Minimize(vol),\n",
    "                  [cp.sum(w) == 1, \n",
    "                   w >= 0]\n",
    "                 )\n",
    "prob.solve()\n",
    "wts = [float('%0.4f' % v) for v in w.value]\n",
    "\n",
    "minvol = vol.value\n",
    "minvolret = ret.value\n",
    "print(\"Min vol portfolio weights\")\n",
    "pd.DataFrame([wts], columns=labels)\n"
   ]
  },
  {
   "cell_type": "code",
   "execution_count": null,
   "metadata": {},
   "outputs": [],
   "source": [
    "%%time\n",
    "# solve points in between\n",
    "# maximize return subject to volatility constraints between minimum volatility and max return volatility\n",
    "\n",
    "# specify a Parameter variable instead of creating new Problem at each iteration\n",
    "# this allows the solver to reuse previous work\n",
    "vol_limit = cp.Parameter(nonneg=True)\n",
    "\n",
    "prob = cp.Problem(cp.Maximize(ret),\n",
    "                  [cp.sum(w) == 1, \n",
    "                   w >= 0,\n",
    "                   vol <= vol_limit\n",
    "                  ]\n",
    "                 )\n",
    "\n",
    "# define function so we can solve many in parallel\n",
    "def solve_vl(vl_val):\n",
    "    vol_limit.value = vl_val\n",
    "    result = prob.solve()\n",
    "    return (ret.value, np.sqrt(vol.value), w.value)\n",
    "\n",
    "# number of points on the frontier\n",
    "NPOINTS = 200\n",
    "vl_vals = np.linspace(minvol, maxretvol, NPOINTS)\n",
    "\n",
    "# iterate in-process\n",
    "results_dict = {}\n",
    "for vl_val in vl_vals:\n",
    "    # print(datetime.strftime(datetime.now(), \"%H:%M:%S\"), vl_val)\n",
    "    results_dict[vl_val] = solve_vl(vl_val)\n",
    "    \n",
    "# parallel implementation\n",
    "# NPROCESSES = 8\n",
    "# pool = Pool(processes = NPROCESSES)\n",
    "# result_values = pool.map(solve_vl, vl_vals)\n",
    "# results_dict = dict(zip(vl_vals, result_values))\n"
   ]
  },
  {
   "cell_type": "code",
   "execution_count": null,
   "metadata": {},
   "outputs": [],
   "source": [
    "ret_df = pd.DataFrame(enumerate(results_dict.keys()))\n",
    "ret_df.columns=['i', 'vol']\n",
    "ret_df['return'] = [results_dict[v][0] for v in ret_df['vol']]\n",
    "ret_df['std'] = [results_dict[v][1] for v in ret_df['vol']]\n",
    "for i, colname in enumerate(labels):\n",
    "    ret_df[colname]=[results_dict[v][2][i] for v in ret_df['vol']]\n",
    "ret_df\n"
   ]
  },
  {
   "cell_type": "code",
   "execution_count": null,
   "metadata": {},
   "outputs": [],
   "source": [
    "# plot frontier\n",
    "plt.figure(figsize=(8, 4.5))\n",
    "plt.scatter(asset_vols, mu)\n",
    "\n",
    "x = ret_df['std']\n",
    "y = ret_df['return']\n",
    "plt.xlabel(\"Standard Deviation of Real Returns\")\n",
    "plt.ylabel(\"Real Return\")\n",
    "plt.title(\"Risk vs. Real Return,  %d-%d\" % (df.index[0], df.index[-1]))\n",
    "\n",
    "# plot the data\n",
    "plt.plot(x,y)\n",
    "\n",
    "\n",
    "xoffset = 0.0033\n",
    "yoffset = 0.002\n",
    "for i, label in enumerate(labels):\n",
    "    plt.annotate(label, xy=(asset_vols[i]+xoffset, mu[i]+yoffset),  xycoords='data',\n",
    "                horizontalalignment='left', verticalalignment='top',\n",
    "               )"
   ]
  },
  {
   "cell_type": "code",
   "execution_count": null,
   "metadata": {},
   "outputs": [],
   "source": [
    "# stacked area chart of weights vs. returns\n",
    "# for given vol constraint and corresponding real return, show portfolio weights\n",
    "x = ret_df['return']\n",
    "y_list = [ret_df[l] for l in labels]\n",
    "pal = ['red', 'lightgreen', 'darkgreen', 'navy', 'gold']\n",
    "\n",
    "fig = plt.figure(figsize=(8, 4.5))\n",
    "ax1 = fig.add_subplot(111)\n",
    "\n",
    "ax1.stackplot(x, y_list, labels=labels, colors=pal)\n",
    "ax1.set_xlabel(\"Portfolio Real Return\")\n",
    "ax1.set_ylabel(\"Portfolio Weight\")\n",
    "ax1.legend(loc='lower right')\n",
    "\n",
    "ax2 = ax1.twiny()\n",
    "ax2.set_xlim((ret_df['std'].iloc[0], ret_df['std'].iloc[-1]))\n",
    "ax2.set_xlabel('Portfolio Vol')\n",
    "\n",
    "ax3 = ax1.twinx()\n",
    "\n",
    "plt.title(\"Optimal Portfolio Transition Map, %d-%d (Post-Inflation era)\" % (df.index[0], df.index[-1]), y=1.16);\n"
   ]
  },
  {
   "cell_type": "markdown",
   "metadata": {},
   "source": [
    "# Long/short optimization with leverage constraint"
   ]
  },
  {
   "cell_type": "code",
   "execution_count": null,
   "metadata": {},
   "outputs": [],
   "source": [
    "# in order to include shorts, we need an asset with a negative expected return\n",
    "n = len(data_df)\n",
    "target_corr = 0.6\n",
    "\n",
    "def target_corr(x1, target_corr, mean_return):\n",
    "    \"\"\"given a series x1, return a random series with correlation target_corr to x1\"\"\"\n",
    "    n = len(x1)\n",
    "    theta = np.arccos(target_corr)\n",
    "    \n",
    "    x2 = np.random.normal(0, x1.std(), size=n)  \n",
    "    # center so actual mean = 0\n",
    "    X = pd.DataFrame({'x1': x1 - x1.mean(),\n",
    "                      'x2': x2 - x2.mean()\n",
    "                     })\n",
    "    # identity matrix\n",
    "    Id = np.diag(np.ones(n))\n",
    "    # QR factorization\n",
    "    Q = np.linalg.qr(X[['x1']])[0]\n",
    "    P = Q @ Q.T\n",
    "    x2o = (Id - P) @ X[['x2']]\n",
    "    Xc2 = pd.DataFrame({'x1': X['x1'], 'x2': x2o['x2']})\n",
    "    # divide by l2 norm\n",
    "    Y = Xc2 / np.sqrt(np.sum(np.square(Xc2)))\n",
    "    return Y['x2'] + (1/np.tan(theta)) * Y['x1'] + mean_return\n",
    "\n",
    "stonks = target_corr(data_df['S&P'].values, 0.9, -0.05)\n",
    "print(\"mean return %.04f\" % stonks.mean())\n",
    "print(\"vol %.04f\" % stonks.std())\n",
    "np.corrcoef(stonks, data_df['S&P'])\n",
    "\n"
   ]
  },
  {
   "cell_type": "code",
   "execution_count": null,
   "metadata": {},
   "outputs": [],
   "source": [
    "data_df['stonks'] = stonks.to_list()\n",
    "labels = ['S&P', 'T-Bills', 'T-Notes', 'Baa Corps', 'Gold', 'stonks']\n",
    "\n",
    "df = data_df\n",
    "df[['S&P', 'stonks']].plot.line();"
   ]
  },
  {
   "cell_type": "code",
   "execution_count": null,
   "metadata": {},
   "outputs": [],
   "source": [
    "# compute covariance matrix\n",
    "Sigma = np.cov(df.transpose())\n",
    "# number of assets\n",
    "\n",
    "n = Sigma.shape[0]\n",
    "# average returns\n",
    "mu = df.mean().values\n",
    "# asset STDs\n",
    "asset_vols = np.sqrt(Sigma.diagonal())\n",
    "# variable to optimize over - portfolio weights\n",
    "w = cp.Variable(n)\n",
    "\n",
    "# objectives to optimize\n",
    "# portfolio return\n",
    "ret = mu.T @ w \n",
    "# volatility\n",
    "vol = cp.quad_form(w, Sigma)\n",
    "\n",
    "z = pd.DataFrame([mu, asset_vols], columns=labels)\n",
    "z['rows'] = ['real return', 'vol']\n",
    "z.set_index('rows')"
   ]
  },
  {
   "cell_type": "code",
   "execution_count": null,
   "metadata": {},
   "outputs": [],
   "source": [
    "my_cmap = sns.diverging_palette(10, 220, sep=80, n=50)\n",
    "sns.heatmap(df.corr(), annot=True, fmt=\".02f\", cmap=my_cmap);\n"
   ]
  },
  {
   "cell_type": "code",
   "execution_count": null,
   "metadata": {},
   "outputs": [],
   "source": [
    "# Solve max return portfolio (corner solution)\n",
    "# update constraints for leverage scenario\n",
    "# sum of weights == 1 as before, net long 100%\n",
    "# remove w >= 0 constraint\n",
    "# new constraint on gross exposure <= 1.5, otherwise optimal weights are unbounded (go infinity long S&P, infinity short stonks)\n",
    "\n",
    "prob = cp.Problem(cp.Maximize(ret), \n",
    "                  [cp.norm1(w) <= 1.5,\n",
    "                   cp.sum(w) == 1]\n",
    "                 )\n",
    "prob.solve()\n",
    "wts = [float('%0.4f' % v) for v in w.value]\n",
    "maxretvol = vol.value\n",
    "maxret = ret.value\n",
    "print(\"Max return portfolio weights (return=%.4f, vol=%.4f)\" % (maxret, maxretvol))\n",
    "pd.DataFrame([wts], columns=labels)\n"
   ]
  },
  {
   "cell_type": "code",
   "execution_count": null,
   "metadata": {},
   "outputs": [],
   "source": [
    "# solve min vol portfolio (other corner solution)\n",
    "prob = cp.Problem(cp.Minimize(vol),\n",
    "                  [cp.norm1(w) <= 1.5,\n",
    "                   cp.sum(w) == 1]\n",
    "                 )\n",
    "prob.solve()\n",
    "wts = [float('%0.4f' % v) for v in w.value]\n",
    "\n",
    "minvol = vol.value\n",
    "minvolret = ret.value\n",
    "print(\"Min vol portfolio weights (return=%.4f, vol=%.4f)\" % (minvolret, minvol))\n",
    "pd.DataFrame([wts], columns=labels)\n"
   ]
  },
  {
   "cell_type": "code",
   "execution_count": null,
   "metadata": {},
   "outputs": [],
   "source": [
    "%%time\n",
    "# solve points in between\n",
    "# maximize return subject to volatility constraints between minimum volatility and max return volatility\n",
    "\n",
    "# specify a Parameter variable instead of creating new Problem at each iteration\n",
    "# this allows the solver to reuse previous work\n",
    "vol_limit = cp.Parameter(nonneg=True)\n",
    "\n",
    "prob = cp.Problem(cp.Maximize(ret), \n",
    "                  [cp.norm1(w) <= 1.5,\n",
    "                   cp.sum(w) == 1,\n",
    "                   vol <= vol_limit]\n",
    "                 )\n",
    "\n",
    "# define function so we can solve many in parallel\n",
    "def solve_vl(vl_val):\n",
    "    vol_limit.value = vl_val\n",
    "    result = prob.solve()\n",
    "    return (ret.value, np.sqrt(vol.value), w.value)\n",
    "\n",
    "# number of points on the frontier\n",
    "NPOINTS = 200\n",
    "vl_vals = np.linspace(minvol, maxretvol, NPOINTS)\n",
    "\n",
    "# iterate in-process\n",
    "results_dict = {}\n",
    "for vl_val in vl_vals:\n",
    "    # print(datetime.strftime(datetime.now(), \"%H:%M:%S\"), vl_val)\n",
    "    results_dict[vl_val] = solve_vl(vl_val)\n",
    "    \n",
    "# parallel implementation\n",
    "# NPROCESSES = 8\n",
    "# pool = Pool(processes = NPROCESSES)\n",
    "# result_values = pool.map(solve_vl, vl_vals)\n",
    "# results_dict = dict(zip(vl_vals, result_values))\n"
   ]
  },
  {
   "cell_type": "code",
   "execution_count": null,
   "metadata": {},
   "outputs": [],
   "source": [
    "ret_df = pd.DataFrame(enumerate(results_dict.keys()))\n",
    "ret_df.columns=['i', 'vol']\n",
    "ret_df['return'] = [results_dict[v][0] for v in ret_df['vol']]\n",
    "ret_df['std'] = [results_dict[v][1] for v in ret_df['vol']]\n",
    "for i, colname in enumerate(labels):\n",
    "    ret_df[colname]=[results_dict[v][2][i] for v in ret_df['vol']]\n",
    "ret_df\n"
   ]
  },
  {
   "cell_type": "code",
   "execution_count": null,
   "metadata": {},
   "outputs": [],
   "source": [
    "# plot frontier\n",
    "plt.figure(figsize=(8, 4.5))\n",
    "plt.scatter(asset_vols, mu)\n",
    "\n",
    "x = ret_df['std']\n",
    "y = ret_df['return']\n",
    "plt.xlabel(\"Standard Deviation of Real Returns\")\n",
    "plt.ylabel(\"Real Return\")\n",
    "plt.title(\"Risk vs. Real Return,  %d-%d\" % (df.index[0], df.index[-1]))\n",
    "\n",
    "# plot the data\n",
    "plt.plot(x,y)\n",
    "\n",
    "\n",
    "xoffset = 0.0033\n",
    "yoffset = 0.002\n",
    "for i, label in enumerate(labels):\n",
    "    plt.annotate(label, xy=(asset_vols[i]+xoffset, mu[i]+yoffset),  xycoords='data',\n",
    "                horizontalalignment='left', verticalalignment='top',\n",
    "               )"
   ]
  },
  {
   "cell_type": "code",
   "execution_count": null,
   "metadata": {},
   "outputs": [],
   "source": [
    "# stacked area chart of absolute exposures vs. returns\n",
    "# for given vol constraint and corresponding real return, show portfolio absolute exposures\n",
    "# plot absolute values so shorts don't create chaos\n",
    "\n",
    "x = ret_df['return']\n",
    "y_list = [abs(ret_df[l]) for l in labels]\n",
    "pal = ['red', 'lightgreen', 'darkgreen', 'navy', 'gold', 'cyan']\n",
    "\n",
    "fig = plt.figure(figsize=(8, 4.5))\n",
    "ax1 = fig.add_subplot(111)\n",
    "\n",
    "ax1.stackplot(x, y_list, labels=labels, colors=pal)\n",
    "ax1.set_xlabel(\"Portfolio Real Return\")\n",
    "ax1.set_ylabel(\"Portfolio Gross Exposure\")\n",
    "ax1.legend(loc='lower right')\n",
    "\n",
    "ax2 = ax1.twiny()\n",
    "ax2.set_xlim((ret_df['std'].iloc[0], ret_df['std'].iloc[-1]))\n",
    "ax2.set_xlabel('Portfolio Vol')\n",
    "\n",
    "ax3 = ax1.twinx()\n",
    "\n",
    "plt.title(\"Optimal Portfolio Transition Map, %d-%d\" % (df.index[0], df.index[-1]), y=1.16);\n"
   ]
  },
  {
   "cell_type": "markdown",
   "metadata": {},
   "source": [
    "# Factors"
   ]
  },
  {
   "cell_type": "code",
   "execution_count": null,
   "metadata": {},
   "outputs": [],
   "source": [
    "# number of stocks\n",
    "n = 1000 \n",
    "# historical mean returns for each stock\n",
    "mu = np.random.normal(0.1, 0.2, n)\n",
    "\n",
    "# number of factors\n",
    "m = 10\n",
    "\n",
    "# factor covariance matrix - random symmetrical matrix\n",
    "SigmaFactor = np.random.randn(m, m)/4\n",
    "SigmaFactor = SigmaFactor.T @ SigmaFactor\n",
    "\n",
    "# factor loadings, determine volatility and covariances between stocks\n",
    "F = np.random.randn(n, m)\n",
    "# idiosyncratic risk of each stock\n",
    "D = np.diag(np.random.uniform(0, 0.9, size=n))\n",
    "\n",
    "count, bins, ignored = plt.hist(mu, 100, density=True, align='mid')\n"
   ]
  },
  {
   "cell_type": "code",
   "execution_count": null,
   "metadata": {},
   "outputs": [],
   "source": [
    "w = cp.Variable(n)         # what we solve for: weight for each stock\n",
    "ret = mu.T @ w             # solve for weights that maximize portfolio return\n",
    "f = F.T @ w                # portfolio factor loading\n",
    "Lmax = cp.Parameter()      # leverage constraint\n",
    "# portfolio volatility: factor risk + idiosyncratic risk\n",
    "risk = cp.quad_form(f, SigmaFactor) + cp.quad_form(w, D)\n",
    "prob = cp.Problem(cp.Maximize(ret), \n",
    "                  [cp.sum(w) == 1, \n",
    "                   cp.norm(w, 1) <= Lmax])\n",
    "\n",
    "# Solve the factor model problem.\n",
    "Lmax.value = 2\n",
    "prob.solve(verbose=True)\n",
    "\n",
    "maxretvol = risk.value\n",
    "maxret = ret.value\n",
    "print(\"Max return portfolio (return=%.4f, vol=%.4f)\" % (maxret, maxretvol))\n"
   ]
  },
  {
   "cell_type": "code",
   "execution_count": null,
   "metadata": {},
   "outputs": [],
   "source": [
    "# solve min vol portfolio (other corner solution)\n",
    "\n",
    "prob = cp.Problem(cp.Minimize(risk),\n",
    "                  [cp.sum(w) == 1, \n",
    "                   cp.norm(w, 1) <= Lmax])\n",
    "prob.solve(solver=cp.OSQP)\n",
    "\n",
    "minvol = risk.value\n",
    "minvolret = ret.value\n",
    "print(\"Min vol portfolio (return=%.4f, risk=%.4f)\" % (minvolret, minvol))\n"
   ]
  },
  {
   "cell_type": "code",
   "execution_count": null,
   "metadata": {},
   "outputs": [],
   "source": [
    "%%time\n",
    "# solve points in between\n",
    "# maximize return subject to volatility constraints between minimum volatility and max return volatility\n",
    "\n",
    "# specify a Parameter variable instead of creating new Problem at each iteration\n",
    "# this allows the solver to reuse previous work\n",
    "vol_limit = cp.Parameter(nonneg=True)\n",
    "\n",
    "prob = cp.Problem(cp.Maximize(ret),\n",
    "                  [cp.sum(w) == 1, \n",
    "                   cp.norm(w, 1) <= Lmax,\n",
    "                   risk <= vol_limit]\n",
    "                 )\n",
    "\n",
    "# define function so we can solve many in parallel\n",
    "def solve_vl(vl_val):\n",
    "    vol_limit.value = vl_val\n",
    "    result = prob.solve(verbose=False)\n",
    "    return (ret.value, np.sqrt(risk.value), w.value)\n",
    "\n",
    "# number of points on the frontier\n",
    "NPOINTS = 200\n",
    "vl_vals = np.linspace(minvol, maxretvol, NPOINTS)\n",
    "\n",
    "# iterate in-process\n",
    "results_dict = {}\n",
    "for vl_val in vl_vals:\n",
    "    # print(datetime.strftime(datetime.now(), \"%H:%M:%S\"), vl_val)\n",
    "    results_dict[vl_val] = solve_vl(vl_val)\n",
    "    \n",
    "# parallel implementation\n",
    "# NPROCESSES = 8\n",
    "# pool = Pool(processes = NPROCESSES)\n",
    "# result_values = pool.map(solve_vl, vl_vals)\n",
    "# results_dict = dict(zip(vl_vals, result_values))\n"
   ]
  },
  {
   "cell_type": "code",
   "execution_count": null,
   "metadata": {},
   "outputs": [],
   "source": [
    "ret_df = pd.DataFrame(enumerate(results_dict.keys()))\n",
    "ret_df.columns=['i', 'vol']\n",
    "ret_df['return'] = [results_dict[v][0] for v in ret_df['vol']]\n",
    "ret_df['std'] = [results_dict[v][1] for v in ret_df['vol']]\n",
    "for i, colname in enumerate(labels):\n",
    "    ret_df[colname]=[results_dict[v][2][i] for v in ret_df['vol']]\n",
    "ret_df\n"
   ]
  },
  {
   "cell_type": "code",
   "execution_count": null,
   "metadata": {},
   "outputs": [],
   "source": [
    "# plot frontier\n",
    "plt.figure(figsize=(8, 4.5))\n",
    "#plt.scatter(asset_vols, mu)\n",
    "\n",
    "x = ret_df['std']\n",
    "y = ret_df['return']\n",
    "plt.xlabel(\"Standard Deviation of Real Returns\")\n",
    "plt.ylabel(\"Real Return\")\n",
    "plt.title(\"Risk vs. Return\")\n",
    "\n",
    "# plot the data\n",
    "plt.plot(x,y);\n"
   ]
  },
  {
   "cell_type": "code",
   "execution_count": null,
   "metadata": {},
   "outputs": [],
   "source": []
  }
 ],
 "metadata": {
  "kernelspec": {
   "display_name": "Python 3",
   "language": "python",
   "name": "python3"
  },
  "language_info": {
   "codemirror_mode": {
    "name": "ipython",
    "version": 3
   },
   "file_extension": ".py",
   "mimetype": "text/x-python",
   "name": "python",
   "nbconvert_exporter": "python",
   "pygments_lexer": "ipython3",
   "version": "3.8.5"
  },
  "toc": {
   "base_numbering": 1,
   "nav_menu": {},
   "number_sections": true,
   "sideBar": true,
   "skip_h1_title": false,
   "title_cell": "Table of Contents",
   "title_sidebar": "Contents",
   "toc_cell": false,
   "toc_position": {},
   "toc_section_display": true,
   "toc_window_display": false
  },
  "varInspector": {
   "cols": {
    "lenName": 16,
    "lenType": 16,
    "lenVar": 40
   },
   "kernels_config": {
    "python": {
     "delete_cmd_postfix": "",
     "delete_cmd_prefix": "del ",
     "library": "var_list.py",
     "varRefreshCmd": "print(var_dic_list())"
    },
    "r": {
     "delete_cmd_postfix": ") ",
     "delete_cmd_prefix": "rm(",
     "library": "var_list.r",
     "varRefreshCmd": "cat(var_dic_list()) "
    }
   },
   "types_to_exclude": [
    "module",
    "function",
    "builtin_function_or_method",
    "instance",
    "_Feature"
   ],
   "window_display": false
  }
 },
 "nbformat": 4,
 "nbformat_minor": 4
}
